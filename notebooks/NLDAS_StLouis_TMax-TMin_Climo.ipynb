{
 "cells": [
  {
   "cell_type": "markdown",
   "id": "attended-costs",
   "metadata": {},
   "source": [
    "## 1. Import Libraries"
   ]
  },
  {
   "cell_type": "code",
   "execution_count": 14,
   "id": "similar-company",
   "metadata": {},
   "outputs": [],
   "source": [
    "import netrc\n",
    "import requests\n",
    "from requests.auth import HTTPBasicAuth\n",
    "import os\n",
    "import io\n",
    "import pandas as pd\n",
    "import numpy as np\n",
    "import matplotlib.pyplot as plt\n",
    "import earthaccess\n",
    "%matplotlib inline"
   ]
  },
  {
   "cell_type": "markdown",
   "id": "functioning-greece",
   "metadata": {},
   "source": [
    "## 2. Store the Token Endpoint URLs "
   ]
  },
  {
   "cell_type": "code",
   "execution_count": 2,
   "id": "handed-crowd",
   "metadata": {},
   "outputs": [],
   "source": [
    "# Setup the signin and time series URLs\n",
    "signin_url = \"https://api.giovanni.earthdata.nasa.gov/signin\"\n",
    "time_series_url = \"https://api.giovanni.earthdata.nasa.gov/proxy-timeseries\"\n"
   ]
  },
  {
   "cell_type": "markdown",
   "id": "musical-flash",
   "metadata": {},
   "source": [
    "## 3. Store Parameters\n",
    "\n",
    "Look at 20 years of 3-hourly temperature data over 45.125N,98.125W, which is in Benton Township, South Dakota."
   ]
  },
  {
   "cell_type": "code",
   "execution_count": 10,
   "id": "precious-profession",
   "metadata": {},
   "outputs": [],
   "source": [
    "lat = 38.60327\n",
    "lon = -90.26047\n",
    "time_start = \"1980-01-01T00:00:00\"\n",
    "time_end = \"2004-12-31T23:00:00\"\n",
    "data = \"NLDAS_FORA0125_H_2_0_Tair\""
   ]
  },
  {
   "cell_type": "markdown",
   "id": "ideal-revision",
   "metadata": {},
   "source": [
    "## 4. Retrieve Token\n",
    "\n",
    "We will use the Earthdata Login credentials stored in our local `netrc` file to retrieve a token. The token is valid for 24 hours, so we can actually use the same token repeatedly."
   ]
  },
  {
   "cell_type": "code",
   "execution_count": 4,
   "id": "mechanical-council",
   "metadata": {},
   "outputs": [],
   "source": [
    "token = requests.get(signin_url, auth=HTTPBasicAuth(netrc.netrc().hosts['urs.earthdata.nasa.gov'][0], \n",
    "                                                    netrc.netrc().hosts['urs.earthdata.nasa.gov'][2]),\n",
    "                     allow_redirects=True).text.replace('\"','')\n"
   ]
  },
  {
   "cell_type": "markdown",
   "id": "checked-wealth",
   "metadata": {},
   "source": [
    "## 5. Define a Function That Calls the Time Series Service"
   ]
  },
  {
   "cell_type": "code",
   "execution_count": 5,
   "id": "precious-harbor",
   "metadata": {
    "metadata": {}
   },
   "outputs": [],
   "source": [
    "def call_time_series(lat,lon,time_start,time_end,data):\n",
    "    \"\"\"\n",
    "    INPUTS:\n",
    "    lat - latitude\n",
    "    lon - longitude\n",
    "    time_start - start of time series in YYYY-MM-DDThh:mm:ss format (UTC)\n",
    "    end_time - end of the time series in YYYY-MM-DDThh:mm:ss format (UTC)\n",
    "    data - name of the data parameter for the time series\n",
    "    \n",
    "    OUTPUT:\n",
    "    time series csv output string\n",
    "    \"\"\"\n",
    "    query_parameters = {\n",
    "        \"data\":data,\n",
    "        \"location\":\"[{},{}]\".format(lat,lon),\n",
    "        \"time\":\"{}/{}\".format(time_start,time_end)\n",
    "    }\n",
    "    headers = {\"authorizationtoken\":token}\n",
    "    response=requests.get(time_series_url,params=query_parameters,headers=headers)\n",
    "    print(response)\n",
    "    return response.text\n"
   ]
  },
  {
   "cell_type": "markdown",
   "id": "processed-crossing",
   "metadata": {},
   "source": [
    "## 6. Define a Function That Parses the Response From the Time Series Service\n",
    "\n",
    "This will return the headers from the CSV as a Python dictionary, and the values formatted as a Pandas dataframe."
   ]
  },
  {
   "cell_type": "code",
   "execution_count": 6,
   "id": "requested-laugh",
   "metadata": {
    "metadata": {}
   },
   "outputs": [],
   "source": [
    "def parse_csv(ts):\n",
    "    \"\"\"\n",
    "    INPUTS:\n",
    "    ts - time series output of the time series service\n",
    "    \n",
    "    OUTPUTS:\n",
    "    headers,df - the headers from the CSV as a dict and the values in a pandas dataframe\n",
    "    \"\"\"\n",
    "    with io.StringIO(ts) as f:\n",
    "        # the first 13 rows are header\n",
    "        headers = {}\n",
    "        for i in range(13):\n",
    "            line = f.readline()\n",
    "            key,value = line.split(\",\")\n",
    "            headers[key] = value.strip()\n",
    "\n",
    "        # Read the csv proper\n",
    "        df = pandas.read_csv(\n",
    "            f,\n",
    "            header=1,\n",
    "            names=(\"Timestamp\",headers[\"param_name\"]),\n",
    "            converters={\"Timestamp\":pandas.Timestamp}\n",
    "        )\n",
    "\n",
    "    return headers, df"
   ]
  },
  {
   "cell_type": "markdown",
   "id": "competitive-separation",
   "metadata": {},
   "source": [
    "## 7. Call the Time Series Service\n",
    "\n",
    "The response will be stored in a variable called `df`."
   ]
  },
  {
   "cell_type": "code",
   "execution_count": null,
   "id": "employed-worry",
   "metadata": {
    "metadata": {},
    "scrolled": false
   },
   "outputs": [
    {
     "name": "stdout",
     "output_type": "stream",
     "text": [
      "<Response [200]>\n",
      "CPU times: total: 0 ns\n",
      "Wall time: 9.66 s\n"
     ]
    }
   ],
   "source": [
    "%%time\n",
    "\n",
    "ts = call_time_series(lat,lon,time_start,time_end,data)\n"
   ]
  },
  {
   "cell_type": "markdown",
   "id": "therapeutic-constraint",
   "metadata": {},
   "source": [
    "## 8. Parse the output"
   ]
  },
  {
   "cell_type": "code",
   "execution_count": 79,
   "id": "closed-plant",
   "metadata": {
    "metadata": {}
   },
   "outputs": [
    {
     "name": "stdout",
     "output_type": "stream",
     "text": [
      "            Timestamp  2-meter above ground Temperature\n",
      "0 1980-01-01 00:00:00                            276.71\n",
      "1 1980-01-01 01:00:00                            276.42\n",
      "2 1980-01-01 02:00:00                            276.14\n",
      "3 1980-01-01 03:00:00                            275.86\n",
      "4 1980-01-01 04:00:00                            275.41\n"
     ]
    }
   ],
   "source": [
    "headers,df = parse_csv(ts)\n",
    "print(df.head())"
   ]
  },
  {
   "cell_type": "code",
   "execution_count": 90,
   "id": "24fd3056",
   "metadata": {},
   "outputs": [
    {
     "data": {
      "text/html": [
       "<div>\n",
       "<style scoped>\n",
       "    .dataframe tbody tr th:only-of-type {\n",
       "        vertical-align: middle;\n",
       "    }\n",
       "\n",
       "    .dataframe tbody tr th {\n",
       "        vertical-align: top;\n",
       "    }\n",
       "\n",
       "    .dataframe thead th {\n",
       "        text-align: right;\n",
       "    }\n",
       "</style>\n",
       "<table border=\"1\" class=\"dataframe\">\n",
       "  <thead>\n",
       "    <tr style=\"text-align: right;\">\n",
       "      <th></th>\n",
       "      <th>daily_max</th>\n",
       "      <th>daily_min</th>\n",
       "    </tr>\n",
       "    <tr>\n",
       "      <th>Timestamp</th>\n",
       "      <th></th>\n",
       "      <th></th>\n",
       "    </tr>\n",
       "  </thead>\n",
       "  <tbody>\n",
       "    <tr>\n",
       "      <th>1979-12-31 00:00:00-06:00</th>\n",
       "      <td>276.71</td>\n",
       "      <td>274.95</td>\n",
       "    </tr>\n",
       "    <tr>\n",
       "      <th>1980-01-01 00:00:00-06:00</th>\n",
       "      <td>280.51</td>\n",
       "      <td>271.07</td>\n",
       "    </tr>\n",
       "    <tr>\n",
       "      <th>1980-01-02 00:00:00-06:00</th>\n",
       "      <td>279.78</td>\n",
       "      <td>271.62</td>\n",
       "    </tr>\n",
       "    <tr>\n",
       "      <th>1980-01-03 00:00:00-06:00</th>\n",
       "      <td>275.12</td>\n",
       "      <td>271.45</td>\n",
       "    </tr>\n",
       "    <tr>\n",
       "      <th>1980-01-04 00:00:00-06:00</th>\n",
       "      <td>273.37</td>\n",
       "      <td>270.42</td>\n",
       "    </tr>\n",
       "    <tr>\n",
       "      <th>...</th>\n",
       "      <td>...</td>\n",
       "      <td>...</td>\n",
       "    </tr>\n",
       "    <tr>\n",
       "      <th>2004-12-27 00:00:00-06:00</th>\n",
       "      <td>273.63</td>\n",
       "      <td>266.53</td>\n",
       "    </tr>\n",
       "    <tr>\n",
       "      <th>2004-12-28 00:00:00-06:00</th>\n",
       "      <td>278.39</td>\n",
       "      <td>270.15</td>\n",
       "    </tr>\n",
       "    <tr>\n",
       "      <th>2004-12-29 00:00:00-06:00</th>\n",
       "      <td>287.58</td>\n",
       "      <td>276.81</td>\n",
       "    </tr>\n",
       "    <tr>\n",
       "      <th>2004-12-30 00:00:00-06:00</th>\n",
       "      <td>289.53</td>\n",
       "      <td>278.73</td>\n",
       "    </tr>\n",
       "    <tr>\n",
       "      <th>2004-12-31 00:00:00-06:00</th>\n",
       "      <td>293.25</td>\n",
       "      <td>285.94</td>\n",
       "    </tr>\n",
       "  </tbody>\n",
       "</table>\n",
       "<p>9133 rows × 2 columns</p>\n",
       "</div>"
      ],
      "text/plain": [
       "                           daily_max  daily_min\n",
       "Timestamp                                      \n",
       "1979-12-31 00:00:00-06:00     276.71     274.95\n",
       "1980-01-01 00:00:00-06:00     280.51     271.07\n",
       "1980-01-02 00:00:00-06:00     279.78     271.62\n",
       "1980-01-03 00:00:00-06:00     275.12     271.45\n",
       "1980-01-04 00:00:00-06:00     273.37     270.42\n",
       "...                              ...        ...\n",
       "2004-12-27 00:00:00-06:00     273.63     266.53\n",
       "2004-12-28 00:00:00-06:00     278.39     270.15\n",
       "2004-12-29 00:00:00-06:00     287.58     276.81\n",
       "2004-12-30 00:00:00-06:00     289.53     278.73\n",
       "2004-12-31 00:00:00-06:00     293.25     285.94\n",
       "\n",
       "[9133 rows x 2 columns]"
      ]
     },
     "execution_count": 90,
     "metadata": {},
     "output_type": "execute_result"
    }
   ],
   "source": [
    "df.index = pd.to_datetime(df['Timestamp'])  # Ensure the index is datetime\n",
    "df.index = df.index.tz_localize('UTC')  # Localize to UTC\n",
    "df.index = df.index.tz_convert('America/Chicago')  # Convert to St. Louis local time (CST/CDT)\n",
    "\n",
    "# Resample data by day to calculate daily max and min temperatures\n",
    "daily_temps = df.resample('D').agg({'2-meter above ground Temperature': ['max', 'min']})\n",
    "\n",
    "# Reset column names for easier access\n",
    "daily_temps.columns = ['daily_max', 'daily_min']\n",
    "\n",
    "daily_temps"
   ]
  },
  {
   "cell_type": "code",
   "execution_count": 91,
   "id": "708bb1ab",
   "metadata": {},
   "outputs": [
    {
     "data": {
      "text/html": [
       "<div>\n",
       "<style scoped>\n",
       "    .dataframe tbody tr th:only-of-type {\n",
       "        vertical-align: middle;\n",
       "    }\n",
       "\n",
       "    .dataframe tbody tr th {\n",
       "        vertical-align: top;\n",
       "    }\n",
       "\n",
       "    .dataframe thead th {\n",
       "        text-align: right;\n",
       "    }\n",
       "</style>\n",
       "<table border=\"1\" class=\"dataframe\">\n",
       "  <thead>\n",
       "    <tr style=\"text-align: right;\">\n",
       "      <th></th>\n",
       "      <th>day_of_year</th>\n",
       "      <th>daily_max</th>\n",
       "      <th>daily_min</th>\n",
       "    </tr>\n",
       "  </thead>\n",
       "  <tbody>\n",
       "    <tr>\n",
       "      <th>0</th>\n",
       "      <td>01-01</td>\n",
       "      <td>38.410880</td>\n",
       "      <td>24.242720</td>\n",
       "    </tr>\n",
       "    <tr>\n",
       "      <th>1</th>\n",
       "      <td>01-02</td>\n",
       "      <td>39.180560</td>\n",
       "      <td>26.619440</td>\n",
       "    </tr>\n",
       "    <tr>\n",
       "      <th>2</th>\n",
       "      <td>01-03</td>\n",
       "      <td>38.544800</td>\n",
       "      <td>25.155680</td>\n",
       "    </tr>\n",
       "    <tr>\n",
       "      <th>3</th>\n",
       "      <td>01-04</td>\n",
       "      <td>36.316400</td>\n",
       "      <td>22.321040</td>\n",
       "    </tr>\n",
       "    <tr>\n",
       "      <th>4</th>\n",
       "      <td>01-05</td>\n",
       "      <td>35.997440</td>\n",
       "      <td>21.976160</td>\n",
       "    </tr>\n",
       "    <tr>\n",
       "      <th>...</th>\n",
       "      <td>...</td>\n",
       "      <td>...</td>\n",
       "      <td>...</td>\n",
       "    </tr>\n",
       "    <tr>\n",
       "      <th>361</th>\n",
       "      <td>12-27</td>\n",
       "      <td>39.210080</td>\n",
       "      <td>25.993040</td>\n",
       "    </tr>\n",
       "    <tr>\n",
       "      <th>362</th>\n",
       "      <td>12-28</td>\n",
       "      <td>40.422560</td>\n",
       "      <td>26.105360</td>\n",
       "    </tr>\n",
       "    <tr>\n",
       "      <th>363</th>\n",
       "      <td>12-29</td>\n",
       "      <td>39.174080</td>\n",
       "      <td>24.843920</td>\n",
       "    </tr>\n",
       "    <tr>\n",
       "      <th>364</th>\n",
       "      <td>12-30</td>\n",
       "      <td>40.188560</td>\n",
       "      <td>25.586960</td>\n",
       "    </tr>\n",
       "    <tr>\n",
       "      <th>365</th>\n",
       "      <td>12-31</td>\n",
       "      <td>40.021077</td>\n",
       "      <td>26.777231</td>\n",
       "    </tr>\n",
       "  </tbody>\n",
       "</table>\n",
       "<p>366 rows × 3 columns</p>\n",
       "</div>"
      ],
      "text/plain": [
       "    day_of_year  daily_max  daily_min\n",
       "0         01-01  38.410880  24.242720\n",
       "1         01-02  39.180560  26.619440\n",
       "2         01-03  38.544800  25.155680\n",
       "3         01-04  36.316400  22.321040\n",
       "4         01-05  35.997440  21.976160\n",
       "..          ...        ...        ...\n",
       "361       12-27  39.210080  25.993040\n",
       "362       12-28  40.422560  26.105360\n",
       "363       12-29  39.174080  24.843920\n",
       "364       12-30  40.188560  25.586960\n",
       "365       12-31  40.021077  26.777231\n",
       "\n",
       "[366 rows x 3 columns]"
      ]
     },
     "execution_count": 91,
     "metadata": {},
     "output_type": "execute_result"
    }
   ],
   "source": [
    "daily_temps['day_of_year'] = daily_temps.index.strftime('%m-%d')\n",
    "\n",
    "# Group by day_of_year and calculate the mean for daily_max and daily_min\n",
    "mean_temps = daily_temps.groupby('day_of_year')[['daily_max', 'daily_min']].mean()\n",
    "\n",
    "# Reset index for clarity (optional)\n",
    "mean_temps = mean_temps.reset_index()\n",
    "\n",
    "# Convert daily_max and daily_min to Fahrenheit\n",
    "mean_temps['daily_max'] = (mean_temps['daily_max'] - 273.15) * 9/5 + 32\n",
    "mean_temps['daily_min'] = (mean_temps['daily_min'] - 273.15) * 9/5 + 32\n",
    "\n",
    "mean_temps"
   ]
  },
  {
   "cell_type": "code",
   "execution_count": 87,
   "id": "184840de",
   "metadata": {},
   "outputs": [
    {
     "data": {
      "text/plain": [
       "<Axes: >"
      ]
     },
     "execution_count": 87,
     "metadata": {},
     "output_type": "execute_result"
    },
    {
     "data": {
      "image/png": "[encoded data removed]",
      "text/plain": [
       "<Figure size 640x480 with 1 Axes>"
      ]
     },
     "metadata": {},
     "output_type": "display_data"
    }
   ],
   "source": [
    "mean_temps.plot()"
   ]
  },
  {
   "cell_type": "code",
   "execution_count": 102,
   "id": "4465870e",
   "metadata": {},
   "outputs": [
    {
     "name": "stdout",
     "output_type": "stream",
     "text": [
      "    day_of_year   std_max   std_min\n",
      "0         01-01  6.349539  3.945385\n",
      "1         01-02  7.156515  6.165334\n",
      "2         01-03  7.488479  6.723813\n",
      "3         01-04  7.298869  7.148159\n",
      "4         01-05  5.125908  6.856522\n",
      "..          ...       ...       ...\n",
      "361       12-27  5.144732  3.861434\n",
      "362       12-28  6.285094  5.753808\n",
      "363       12-29  6.788630  6.049966\n",
      "364       12-30  7.470181  7.752311\n",
      "365       12-31  5.925115  5.898162\n",
      "\n",
      "[366 rows x 3 columns]\n"
     ]
    }
   ],
   "source": [
    "# Add a column for day_of_year\n",
    "daily_temps['day_of_year'] = daily_temps.index.strftime('%m-%d')\n",
    "\n",
    "# Group by day_of_year and calculate standard deviations\n",
    "daily_std = daily_temps.groupby('day_of_year')[['daily_max', 'daily_min']].std()\n",
    "\n",
    "# Reset index for clarity (optional)\n",
    "daily_std = daily_std.reset_index()\n",
    "\n",
    "# Rename columns for clarity\n",
    "daily_std.rename(columns={'daily_max': 'std_max', 'daily_min': 'std_min'}, inplace=True)\n",
    "\n",
    "# Display the results\n",
    "print(daily_std)\n",
    "\n"
   ]
  },
  {
   "cell_type": "code",
   "execution_count": 103,
   "id": "c25f32a6",
   "metadata": {},
   "outputs": [],
   "source": [
    "daily_std.to_csv('daily_tmax_tmin_stdev.csv')"
   ]
  }
 ],
 "metadata": {
  "kernelspec": {
   "display_name": "Python 3",
   "language": "python",
   "name": "python3"
  },
  "language_info": {
   "codemirror_mode": {
    "name": "ipython",
    "version": 3
   },
   "file_extension": ".py",
   "mimetype": "text/x-python",
   "name": "python",
   "nbconvert_exporter": "python",
   "pygments_lexer": "ipython3",
   "version": "3.10.14"
  }
 },
 "nbformat": 4,
 "nbformat_minor": 5
}
