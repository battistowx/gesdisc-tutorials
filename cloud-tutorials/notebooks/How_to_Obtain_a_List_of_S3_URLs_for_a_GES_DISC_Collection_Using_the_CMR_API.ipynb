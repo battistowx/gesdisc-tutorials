{
 "cells": [
  {
   "cell_type": "markdown",
   "id": "narrative-walnut",
   "metadata": {
    "id": "narrative-walnut"
   },
   "source": [
    "# Obtain a List of S3 URLs for a GES DISC Collection Using Python\n",
    "### Authors: Chris Battisto, Alexis Hunzinger\n",
    "### Date Authored: 1-31-22\n",
    "### Date Updated: 11-6-24\n",
    "\n",
    "### Timing\n",
    "\n",
    "Exercise: 15 minutes\n",
    "\n",
    "### Overview\n",
    "\n",
    "This notebook demonstrates how to obtain a list of S3 URLs for desired cloud-hosted GES DISC granules using the Python libraries, earthaccess and python-cmr.\n",
    "\n",
    "### Prerequisites\n",
    "\n",
    "This notebook was written using Python 3.8, and requires these libraries and files: \n",
    "- earthaccess\n",
    "- python-cmr\n",
    "\n",
    "Identify your data collection of interest and acquire its shortname or concept ID.\n",
    "- These can be found on the collection's Dataset Landing Page on the GES DISC website. For example, this is the Dataset Landing Page for Hourly MERRA-2 SLV: https://disc.gsfc.nasa.gov/datasets/M2T1NXSLV_5.12.4/summary  \n",
    "- Hover your mouse over the \"Cloud Enabled\" badge to find the collection's Concept ID, or find the collection's shortname in the Product Summary tab.\n",
    "\n",
    "![](../../images/GESDISC-DSL-Shortname-ConceptID.png)\n"
   ]
  },
  {
   "cell_type": "markdown",
   "id": "t41Inu8NiQiX",
   "metadata": {
    "id": "t41Inu8NiQiX"
   },
   "source": [
    "# Option 1: `earthaccess`\n",
    "\n",
    "## Import libraries"
   ]
  },
  {
   "cell_type": "code",
   "execution_count": 1,
   "id": "seeing-tonight",
   "metadata": {
    "id": "seeing-tonight"
   },
   "outputs": [],
   "source": [
    "import earthaccess"
   ]
  },
  {
   "cell_type": "markdown",
   "id": "russian-night",
   "metadata": {
    "id": "russian-night"
   },
   "source": [
    "## Search for granules using the earthaccess function, `search_data()`\n",
    "\n",
    "It is helpful to know some identifying information about the collection you're interested in. The table below lists some data collection identiers and corresponding `earthaccess` parameters.\n",
    "| Identifier | Parameter |\n",
    "| -------- | ------- |\n",
    "| Concept ID | `concept_id` |\n",
    "| Dataset shortname | `short_name` |\n",
    "| DOI    | `doi`    |\n",
    "| Version| `version` |\n",
    "\n",
    "Further customize your search with spatial and temporal bounds (i.e. `bounding box`, `temporal` range). Read more about the earthaccess package on its [Read The Docs](https://earthaccess.readthedocs.io/en/latest/) page. \n",
    "\n",
    "\n"
   ]
  },
  {
   "cell_type": "code",
   "execution_count": 9,
   "id": "certified-gather",
   "metadata": {
    "id": "certified-gather"
   },
   "outputs": [
    {
     "name": "stdout",
     "output_type": "stream",
     "text": [
      "Granules found: 3\n"
     ]
    }
   ],
   "source": [
    "short_name = 'M2T1NXSLV'\n",
    "version = '5.12.4'\n",
    "#concept_id = 'C1276812863-GES_DISC'\n",
    "start_time = '2022-09-25'\n",
    "end_time = '2022-09-27'\n",
    "\n",
    "results = earthaccess.search_data(\n",
    "    short_name = short_name,\n",
    "    version = version,\n",
    "    cloud_hosted = True,\n",
    "    #bounding_box = (-10,20,10,50),\n",
    "    temporal = (start_time,end_time),\n",
    "    count = 100\n",
    ")"
   ]
  },
  {
   "cell_type": "code",
   "execution_count": 13,
   "id": "807d6849-a293-4b34-9895-96e17d48a007",
   "metadata": {},
   "outputs": [],
   "source": [
    "#results\n",
    "\n",
    "#Alexis note: The S3 URL is not explicitly shown.\n",
    "# You can perform direct S3 access, but you are not shown the specific S3 URL.\n",
    "# What do we do here?"
   ]
  },
  {
   "cell_type": "markdown",
   "id": "breathing-oxide",
   "metadata": {
    "id": "breathing-oxide"
   },
   "source": [
    "# Option 2: `python_cmr`\n",
    "\n",
    "## Import libraries\n",
    "The python_cmr package contains many functions that aid in searching the CMR Catalog. See installation instructions and examples in the [python_cmr README](https://github.com/nasa/python_cmr/tree/develop).\n",
    "\n",
    "Here we will use the `GranuleQuery` function."
   ]
  },
  {
   "cell_type": "code",
   "execution_count": 2,
   "id": "d24e0300-992b-444f-8507-66b7276f1229",
   "metadata": {},
   "outputs": [],
   "source": [
    "from cmr import GranuleQuery"
   ]
  },
  {
   "cell_type": "markdown",
   "id": "266be203-1481-4e70-8098-72b441349095",
   "metadata": {},
   "source": [
    "## Search for granules using the python_cmr function, `GranuleQuery`\n",
    "\n",
    "It is helpful to know some identifying information about the collection and granules you're interested in, including dataset shortname and version. Further customize your search with spatial and temporal bounds (i.e. `bounding box`, `temporal` range). "
   ]
  },
  {
   "cell_type": "code",
   "execution_count": 12,
   "id": "introductory-wyoming",
   "metadata": {
    "id": "introductory-wyoming",
    "outputId": "403cd50f-10f9-4bc1-ace1-c623d81345f0"
   },
   "outputs": [
    {
     "data": {
      "text/plain": [
       "['s3://gesdisc-cumulus-prod-protected/MERRA2/M2T1NXSLV.5.12.4/2022/09/MERRA2_400.tavg1_2d_slv_Nx.20220925.nc4',\n",
       " 's3://gesdisc-cumulus-prod-protected/MERRA2/M2T1NXSLV.5.12.4/2022/09/MERRA2_400.tavg1_2d_slv_Nx.20220926.nc4',\n",
       " 's3://gesdisc-cumulus-prod-protected/MERRA2/M2T1NXSLV.5.12.4/2022/09/MERRA2_400.tavg1_2d_slv_Nx.20220927.nc4']"
      ]
     },
     "execution_count": 12,
     "metadata": {},
     "output_type": "execute_result"
    }
   ],
   "source": [
    "short_name = 'M2T1NXSLV'\n",
    "version = '5.12.4'\n",
    "#concept_id = 'C1276812863-GES_DISC'\n",
    "start_time = '2022-09-25T00:00:00Z'\n",
    "end_time = '2022-09-27T00:00:00Z'\n",
    "\n",
    "api = GranuleQuery()\n",
    "granules = api.short_name(short_name).version(version).temporal(start_time,end_time).get()\n",
    "\n",
    "s3_urls = []\n",
    "for granule in granules:\n",
    "    for link in granule.get('links',[]):\n",
    "        if 'rel' in link and 'href' in link and 'inherited' not in link:\n",
    "            if 'http://esipfed.org/ns/fedsearch/1.1/s3#' in link['rel']: # It's an s3 url\n",
    "                s3_urls.append(link['href'])\n",
    "\n",
    "s3_urls"
   ]
  },
  {
   "cell_type": "markdown",
   "id": "c80d58e4",
   "metadata": {},
   "source": [
    "### Search CMR with your desired data collection's shortname or concept ID and desired date range\n",
    "\n",
    "Using the collection's shortname or concept ID, we can obtain individual granules by querying https://cmr.earthdata.nasa.gov/search/granules. By querying a JSON response of the granules that we want, we can obtain each granule's S3 URL. \n",
    "\n",
    "Here, we will parse out an S3 URL for the AQUA AIRS IR + MW Level 2 CLIMCAPS dataset. \n",
    "- **Shortname**: M2T1NXSLV\n",
    "- **Concept ID**: C1276812863-GES_DISC\n",
    "\n",
    "Our desried date range is September 25, 2022 00:00:00 to September 27, 2022 00:00:00. "
   ]
  },
  {
   "cell_type": "code",
   "execution_count": 16,
   "id": "cae6738a",
   "metadata": {
    "tags": []
   },
   "outputs": [],
   "source": [
    "url = 'https://cmr.earthdata.nasa.gov/search/granules'\n",
    "\n",
    "short_name = 'M2T1NXSLV'\n",
    "concept_id = 'C1276812863-GES_DISC'\n",
    "\n",
    "start_time = '2022-09-25T00:00:00Z'\n",
    "end_time = '2022-09-27T00:00:00Z'\n",
    "\n",
    "# OPTION 1: Using shortname\n",
    "response = cmr_request({\n",
    "                        'short_name': short_name,\n",
    "                        'temporal': start_time+','+end_time,\n",
    "                        'page_size': 200\n",
    "                        })\n",
    "\n",
    "# OPTION 2: Using concept ID\n",
    "response = cmr_request({\n",
    "                        'concept_id': concept_id,\n",
    "                        'temporal': start_time+','+end_time,\n",
    "                        'page_size': 200\n",
    "                        })\n",
    "\n",
    "granules = response.json()['feed']['entry']"
   ]
  },
  {
   "cell_type": "markdown",
   "id": "6837abc2",
   "metadata": {},
   "source": [
    "### Identify the S3 URL from each granule response and save to a list\n",
    "\n",
    "Now you can create an empty list and fill it with the S3 URL contained in each granule's response. "
   ]
  },
  {
   "cell_type": "code",
   "execution_count": 17,
   "id": "9360a096-bcc9-41b0-97ff-d6940731dd4f",
   "metadata": {},
   "outputs": [],
   "source": [
    "s3_urls = []\n",
    "for granule in granules:\n",
    "    s3_urls.append(next((item['href'] for item in granule['links'] if item[\"href\"].startswith(\"s3://\")), None))"
   ]
  },
  {
   "cell_type": "markdown",
   "id": "9c460242-dfcc-4fae-b46b-2ab7fb8b9e47",
   "metadata": {},
   "source": [
    "### View your list of S3 URLs"
   ]
  },
  {
   "cell_type": "code",
   "execution_count": 18,
   "id": "00abda66-1df0-413d-8220-2dece8758650",
   "metadata": {},
   "outputs": [
    {
     "data": {
      "text/plain": [
       "['s3://gesdisc-cumulus-prod-protected/MERRA2/M2T1NXSLV.5.12.4/2022/09/MERRA2_400.tavg1_2d_slv_Nx.20220925.nc4',\n",
       " 's3://gesdisc-cumulus-prod-protected/MERRA2/M2T1NXSLV.5.12.4/2022/09/MERRA2_400.tavg1_2d_slv_Nx.20220926.nc4',\n",
       " 's3://gesdisc-cumulus-prod-protected/MERRA2/M2T1NXSLV.5.12.4/2022/09/MERRA2_400.tavg1_2d_slv_Nx.20220927.nc4']"
      ]
     },
     "execution_count": 18,
     "metadata": {},
     "output_type": "execute_result"
    }
   ],
   "source": [
    "s3_urls"
   ]
  },
  {
   "cell_type": "code",
   "execution_count": null,
   "id": "61d0bada-a632-4ae5-a39b-dc1b86dd4d50",
   "metadata": {},
   "outputs": [],
   "source": []
  }
 ],
 "metadata": {
  "colab": {
   "name": "CMR_Cloud_Search.ipynb",
   "provenance": []
  },
  "kernelspec": {
   "display_name": "Python 3 (ipykernel)",
   "language": "python",
   "name": "python3"
  },
  "language_info": {
   "codemirror_mode": {
    "name": "ipython",
    "version": 3
   },
   "file_extension": ".py",
   "mimetype": "text/x-python",
   "name": "python",
   "nbconvert_exporter": "python",
   "pygments_lexer": "ipython3",
   "version": "3.10.14"
  }
 },
 "nbformat": 4,
 "nbformat_minor": 5
}
